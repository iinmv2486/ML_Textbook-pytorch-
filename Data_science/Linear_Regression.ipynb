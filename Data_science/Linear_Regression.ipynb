{
 "cells": [
  {
   "cell_type": "markdown",
   "metadata": {},
   "source": [
    "# 선형 회귀"
   ]
  },
  {
   "cell_type": "markdown",
   "metadata": {},
   "source": [
    "y = 2x_1 + 3x_2 -4"
   ]
  },
  {
   "cell_type": "code",
   "execution_count": 1,
   "metadata": {},
   "outputs": [],
   "source": [
    "import torch\n",
    "\n",
    "x_train = torch.FloatTensor([[1, 2],\n",
    "                             [3, 2],\n",
    "                             [3, 7],\n",
    "                             [1, 1],\n",
    "                             [1, 0]])\n",
    "\n",
    "y_train = torch.FloatTensor([[4],\n",
    "                             [8],\n",
    "                             [23],\n",
    "                             [1],\n",
    "                             [-2]])"
   ]
  },
  {
   "cell_type": "markdown",
   "metadata": {},
   "source": [
    "## 초기화\n",
    "W: 가중치\n",
    "\n",
    "b: 편향\n",
    "\n",
    "lr(learning Rate): 학습률\n",
    "\n",
    "질문:\n",
    "\n",
    "torch.rand()가 뭐 하는 함수지? 그리고 왜 가중치는 2, 1이고 편향은 1, 1이지? 벡터와 스칼라인가?"
   ]
  },
  {
   "cell_type": "code",
   "execution_count": 2,
   "metadata": {},
   "outputs": [],
   "source": [
    "W = torch.rand(2, 1)\n",
    "b = torch.rand(1, 1)\n",
    "lr = 0.01"
   ]
  },
  {
   "cell_type": "code",
   "execution_count": null,
   "metadata": {},
   "outputs": [],
   "source": []
  }
 ],
 "metadata": {
  "kernelspec": {
   "display_name": ".venv",
   "language": "python",
   "name": "python3"
  },
  "language_info": {
   "codemirror_mode": {
    "name": "ipython",
    "version": 3
   },
   "file_extension": ".py",
   "mimetype": "text/x-python",
   "name": "python",
   "nbconvert_exporter": "python",
   "pygments_lexer": "ipython3",
   "version": "3.12.3"
  }
 },
 "nbformat": 4,
 "nbformat_minor": 2
}
