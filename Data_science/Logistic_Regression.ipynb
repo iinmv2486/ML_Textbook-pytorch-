{
 "cells": [
  {
   "cell_type": "markdown",
   "metadata": {},
   "source": [
    "# 학습 데이터 생성"
   ]
  },
  {
   "cell_type": "code",
   "execution_count": 17,
   "metadata": {},
   "outputs": [],
   "source": [
    "import torch\n",
    "\n",
    "x_train = torch.FloatTensor([[1],[2],[3],[4],[5],[2.5],[3.5],[0],[3.1],[2.7],[2.8],[2.9]])\n",
    "y_train = torch.FloatTensor([[1],[1],[1],[0],[0],[0],[0],[1],[0],[1],[1],[1]])"
   ]
  },
  {
   "cell_type": "code",
   "execution_count": 18,
   "metadata": {},
   "outputs": [],
   "source": [
    "W = torch.zeros(1, 1)\n",
    "b = torch.zeros(1, 1)\n",
    "lr = 1.0"
   ]
  },
  {
   "cell_type": "code",
   "execution_count": 19,
   "metadata": {},
   "outputs": [
    {
     "name": "stdout",
     "output_type": "stream",
     "text": [
      "epoch: 0, cost: 0.693147, W: -0.154167, b: 0.083333\n",
      "epoch: 100, cost: 0.420221, W: -1.451281, b: 4.406925\n",
      "epoch: 200, cost: 0.398721, W: -1.898433, b: 5.773750\n",
      "epoch: 300, cost: 0.390820, W: -2.174322, b: 6.609553\n",
      "epoch: 400, cost: 0.387009, W: -2.367329, b: 7.191599\n",
      "epoch: 500, cost: 0.384924, W: -2.510626, b: 7.622530\n",
      "epoch: 600, cost: 0.383699, W: -2.620779, b: 7.953164\n",
      "epoch: 700, cost: 0.382944, W: -2.707397, b: 8.212804\n",
      "epoch: 800, cost: 0.382463, W: -2.776597, b: 8.420023\n",
      "epoch: 900, cost: 0.382149, W: -2.832521, b: 8.587363\n",
      "epoch: 1000, cost: 0.381941, W: -2.878112, b: 8.723699\n",
      "epoch: 1100, cost: 0.381801, W: -2.915530, b: 8.835541\n",
      "epoch: 1200, cost: 0.381706, W: -2.946401, b: 8.927779\n",
      "epoch: 1300, cost: 0.381641, W: -2.971979, b: 9.004180\n",
      "epoch: 1400, cost: 0.381596, W: -2.993242, b: 9.067673\n",
      "epoch: 1500, cost: 0.381565, W: -3.010968, b: 9.120598\n",
      "epoch: 1600, cost: 0.381543, W: -3.025776, b: 9.164800\n",
      "epoch: 1700, cost: 0.381528, W: -3.038172, b: 9.201797\n",
      "epoch: 1800, cost: 0.381517, W: -3.048561, b: 9.232802\n",
      "epoch: 1900, cost: 0.381509, W: -3.057279, b: 9.258815\n",
      "epoch: 2000, cost: 0.381504, W: -3.064605, b: 9.280675\n",
      "epoch: 2100, cost: 0.381500, W: -3.070765, b: 9.299053\n",
      "epoch: 2200, cost: 0.381497, W: -3.075948, b: 9.314517\n",
      "epoch: 2300, cost: 0.381495, W: -3.080314, b: 9.327539\n",
      "epoch: 2400, cost: 0.381494, W: -3.083991, b: 9.338510\n",
      "epoch: 2500, cost: 0.381493, W: -3.087090, b: 9.347754\n",
      "epoch: 2600, cost: 0.381493, W: -3.089704, b: 9.355551\n",
      "epoch: 2700, cost: 0.381492, W: -3.091908, b: 9.362126\n",
      "epoch: 2800, cost: 0.381492, W: -3.093769, b: 9.367676\n",
      "epoch: 2900, cost: 0.381491, W: -3.095338, b: 9.372355\n",
      "epoch: 3000, cost: 0.381491, W: -3.096662, b: 9.376306\n"
     ]
    }
   ],
   "source": [
    "for epoch in range(3001):\n",
    "    W.requires_grad_(True)\n",
    "    b.requires_grad_(True)\n",
    "\n",
    "    hypothesis = torch.sigmoid(torch.mm(x_train, W) + b)\n",
    "    cost = torch.mean(y_train * -torch.log(hypothesis) + (1-y_train) * -torch.log(1-hypothesis))\n",
    "\n",
    "    cost.backward()\n",
    "    with torch.no_grad() as grd:\n",
    "        W = W - lr * W.grad\n",
    "        b = b - lr * b.grad\n",
    "    \n",
    "    if epoch % 100 == 0:\n",
    "        print( 'epoch: {}, cost: {:.6f}, W: {:.6f}, b: {:.6f}'.format(epoch, cost.item(), W.squeeze(), b.squeeze()))"
   ]
  },
  {
   "cell_type": "code",
   "execution_count": 20,
   "metadata": {},
   "outputs": [
    {
     "name": "stdout",
     "output_type": "stream",
     "text": [
      "tensor([[0.],\n",
      "        [1.]])\n"
     ]
    }
   ],
   "source": [
    "x_test = torch.FloatTensor([[4.5], [1.1]])\n",
    "test_result = torch.sigmoid(torch.mm(x_test, W)+b)\n",
    "print(torch.round(test_result))"
   ]
  },
  {
   "cell_type": "markdown",
   "metadata": {},
   "source": [
    "# Scikit-learn을 사용한 구현"
   ]
  },
  {
   "cell_type": "code",
   "execution_count": 22,
   "metadata": {},
   "outputs": [
    {
     "name": "stdout",
     "output_type": "stream",
     "text": [
      "[[-3.10428163]] [9.39919938]\n",
      "[0 1]\n"
     ]
    }
   ],
   "source": [
    "from sklearn.linear_model import LogisticRegression\n",
    "\n",
    "x_train = [[1],[2],[3],[4],[5],[2.5],[3.5],[0],[3.1],[2.7],[2.8],[2.9]]\n",
    "y_train = [1,1,1,0,0,0,0,1,0,1,1,1] # 입력 shape이 pytorch에서와 다름에 주의!\n",
    "\n",
    "model = LogisticRegression(penalty=None)\n",
    "model.fit(x_train, y_train)\n",
    "\n",
    "print(model.coef_, model.intercept_)\n",
    "\n",
    "x_test = [[4.5], [1.1]]\n",
    "test_result = model.predict(x_test)\n",
    "print(test_result)"
   ]
  },
  {
   "cell_type": "markdown",
   "metadata": {},
   "source": [
    "# optimizer 사용해보기"
   ]
  },
  {
   "cell_type": "code",
   "execution_count": 29,
   "metadata": {},
   "outputs": [
    {
     "name": "stdout",
     "output_type": "stream",
     "text": [
      "epoch: 0, cost: 0.693147, weight: -0.154167, bias: 0.083333\n",
      "epoch: 100, cost: 0.420221, weight: -1.451281, bias: 4.406925\n",
      "epoch: 200, cost: 0.398721, weight: -1.898433, bias: 5.773750\n",
      "epoch: 300, cost: 0.390820, weight: -2.174322, bias: 6.609553\n",
      "epoch: 400, cost: 0.387009, weight: -2.367329, bias: 7.191599\n",
      "epoch: 500, cost: 0.384924, weight: -2.510626, bias: 7.622530\n",
      "epoch: 600, cost: 0.383699, weight: -2.620779, bias: 7.953164\n",
      "epoch: 700, cost: 0.382944, weight: -2.707397, bias: 8.212804\n",
      "epoch: 800, cost: 0.382463, weight: -2.776597, bias: 8.420023\n",
      "epoch: 900, cost: 0.382149, weight: -2.832521, bias: 8.587363\n",
      "epoch: 1000, cost: 0.381941, weight: -2.878112, bias: 8.723699\n",
      "epoch: 1100, cost: 0.381801, weight: -2.915530, bias: 8.835541\n",
      "epoch: 1200, cost: 0.381706, weight: -2.946401, bias: 8.927779\n",
      "epoch: 1300, cost: 0.381641, weight: -2.971979, bias: 9.004180\n",
      "epoch: 1400, cost: 0.381596, weight: -2.993242, bias: 9.067673\n",
      "epoch: 1500, cost: 0.381565, weight: -3.010968, bias: 9.120598\n",
      "epoch: 1600, cost: 0.381543, weight: -3.025776, bias: 9.164800\n",
      "epoch: 1700, cost: 0.381528, weight: -3.038172, bias: 9.201797\n",
      "epoch: 1800, cost: 0.381517, weight: -3.048561, bias: 9.232802\n",
      "epoch: 1900, cost: 0.381509, weight: -3.057279, bias: 9.258815\n",
      "epoch: 2000, cost: 0.381504, weight: -3.064605, bias: 9.280675\n",
      "epoch: 2100, cost: 0.381500, weight: -3.070765, bias: 9.299053\n",
      "epoch: 2200, cost: 0.381497, weight: -3.075948, bias: 9.314517\n",
      "epoch: 2300, cost: 0.381495, weight: -3.080314, bias: 9.327539\n",
      "epoch: 2400, cost: 0.381494, weight: -3.083991, bias: 9.338510\n",
      "epoch: 2500, cost: 0.381493, weight: -3.087090, bias: 9.347754\n",
      "epoch: 2600, cost: 0.381493, weight: -3.089704, bias: 9.355551\n",
      "epoch: 2700, cost: 0.381492, weight: -3.091908, bias: 9.362126\n",
      "epoch: 2800, cost: 0.381492, weight: -3.093769, bias: 9.367676\n",
      "epoch: 2900, cost: 0.381491, weight: -3.095338, bias: 9.372355\n",
      "epoch: 3000, cost: 0.381491, weight: -3.096662, bias: 9.376306\n"
     ]
    }
   ],
   "source": [
    "import torch\n",
    "\n",
    "x_train = torch.FloatTensor([[1],[2],[3],[4],[5],[2.5],[3.5],[0],[3.1],[2.7],[2.8],[2.9]])\n",
    "y_train = torch.FloatTensor([[1],[1],[1],[0],[0],[0],[0],[1],[0],[1],[1],[1]])\n",
    "\n",
    "W = torch.zeros(1, 1)\n",
    "b = torch.zeros(1, 1)\n",
    "lr = 1.0\n",
    "\n",
    "optimizer = torch.optim.SGD([W, b], lr =1.0)\n",
    "\n",
    "for epoch in range(3001):\n",
    "    W.requires_grad_(True)\n",
    "    b.requires_grad_(True)\n",
    "\n",
    "    hypothesis = torch.sigmoid(torch.mm(x_train, W) + b)\n",
    "    cost = torch.mean(y_train * -torch.log(hypothesis) + (1-y_train) * -torch.log(1-hypothesis))\n",
    "\n",
    "    optimizer.zero_grad()\n",
    "    cost.backward()\n",
    "    optimizer.step()\n",
    "    \n",
    "    if epoch % 100 == 0:\n",
    "        print(\"epoch: {}, cost: {:.6f}, weight: {:.6f}, bias: {:.6f}\".format(epoch, cost.item(), W.squeeze(), b.squeeze()))"
   ]
  },
  {
   "cell_type": "markdown",
   "metadata": {},
   "source": [
    "# Matplotlib으로 결과 시각화"
   ]
  },
  {
   "cell_type": "code",
   "execution_count": 31,
   "metadata": {},
   "outputs": [
    {
     "data": {
      "image/png": "[encoded data removed]",
      "text/plain": [
       "<Figure size 640x480 with 1 Axes>"
      ]
     },
     "metadata": {},
     "output_type": "display_data"
    }
   ],
   "source": [
    "import matplotlib.pyplot as plt\n",
    "\n",
    "W.requires_grad_(False)\n",
    "b.requires_grad_(False)\n",
    "\n",
    "plt.scatter(x_train, y_train, c=\"black\")\n",
    "\n",
    "X = torch.linspace(0, 5, 100).unsqueeze(1)\n",
    "Y = torch.sigmoid(torch.mm(X, W) + b)\n",
    "plt.plot(X, Y, c=\"#ff0000\")\n",
    "plt.show()"
   ]
  },
  {
   "cell_type": "code",
   "execution_count": null,
   "metadata": {},
   "outputs": [],
   "source": []
  }
 ],
 "metadata": {
  "kernelspec": {
   "display_name": ".venv",
   "language": "python",
   "name": "python3"
  },
  "language_info": {
   "codemirror_mode": {
    "name": "ipython",
    "version": 3
   },
   "file_extension": ".py",
   "mimetype": "text/x-python",
   "name": "python",
   "nbconvert_exporter": "python",
   "pygments_lexer": "ipython3",
   "version": "3.12.3"
  }
 },
 "nbformat": 4,
 "nbformat_minor": 2
}
