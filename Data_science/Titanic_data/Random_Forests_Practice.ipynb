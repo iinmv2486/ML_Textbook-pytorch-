{
 "cells": [
  {
   "cell_type": "markdown",
   "metadata": {},
   "source": [
    "# 데이터 전처리"
   ]
  },
  {
   "cell_type": "code",
   "execution_count": 7,
   "metadata": {},
   "outputs": [],
   "source": [
    "import pandas as pd\n",
    "\n",
    "train = pd.read_csv(\"train.csv\")\n",
    "train['Age']= train['Age'].fillna(train['Age'].mean())\n",
    "\n",
    "features = ['Pclass', 'Sex', 'Age','SibSp', 'Parch', 'Fare', 'Embarked']\n",
    "X = pd.get_dummies(train[features], drop_first=True).values\n",
    "\n",
    "y = train['Survived'].values"
   ]
  },
  {
   "cell_type": "code",
   "execution_count": 8,
   "metadata": {},
   "outputs": [],
   "source": [
    "from sklearn.tree import DecisionTreeClassifier\n",
    "import numpy as np\n",
    "class RandomForestClassifier:\n",
    "    def __init__(self, n_estimators=100, max_depth=None, max_features='sqrt', max_samples=None):\n",
    "        self.n_estimators = n_estimators\n",
    "        self.max_depth = max_depth\n",
    "        self.max_features = max_features\n",
    "        self.max_samples = max_samples\n",
    "        self.estimators = []\n",
    "\n",
    "        for i in range(n_estimators):\n",
    "            dt = DecisionTreeClassifier(max_depth=max_depth, max_features=max_features)\n",
    "            self.estimators.append(dt)\n",
    "\n",
    "    def fit(self, X, y):\n",
    "        for i in range(self.n_estimators):\n",
    "            x_sample, y_sample = self.sample(X, y)\n",
    "            self.estimators[i].fit(x_sample, y_sample)\n",
    "    \n",
    "    def sample(self, X, y):\n",
    "        if self.max_samples is None:\n",
    "            n_samples = X.shape[0]\n",
    "        else:\n",
    "            n_samples = min(self.max_samples, X.shape[0])\n",
    "        \n",
    "        indices = np.random.choice(X.shape[0], n_samples, replace=True)\n",
    "        return X[indices], y[indices]\n",
    "    \n",
    "    def predict(self, X):\n",
    "        all_predictions = np.zeros((self.n_estimators, X.shape[0]), dtype=np.int64)\n",
    "        for i in range(self.n_estimators):\n",
    "            all_predictions[i] = self.estimators[i].predict(X)\n",
    "\n",
    "        predictions = np.zeros(X.shape[0], dtype=np.int64)\n",
    "        for i in range(X.shape[0]):\n",
    "            predictions[i] = np.bincount(all_predictions[:, i]).argmax()\n",
    "            \n",
    "        return predictions"
   ]
  },
  {
   "cell_type": "code",
   "execution_count": 9,
   "metadata": {},
   "outputs": [
    {
     "name": "stdout",
     "output_type": "stream",
     "text": [
      "train accuracy: 0.8159371492704826\n"
     ]
    }
   ],
   "source": [
    "rf = RandomForestClassifier(n_estimators=50, max_depth=3, max_features=2)\n",
    "rf.fit(X, y)\n",
    "y_pred = rf.predict(X)\n",
    "# train accuracy 출력\n",
    "print(\"train accuracy:\", (y==y_pred).mean())"
   ]
  },
  {
   "cell_type": "code",
   "execution_count": null,
   "metadata": {},
   "outputs": [],
   "source": []
  }
 ],
 "metadata": {
  "kernelspec": {
   "display_name": ".venv",
   "language": "python",
   "name": "python3"
  },
  "language_info": {
   "codemirror_mode": {
    "name": "ipython",
    "version": 3
   },
   "file_extension": ".py",
   "mimetype": "text/x-python",
   "name": "python",
   "nbconvert_exporter": "python",
   "pygments_lexer": "ipython3",
   "version": "3.11.9"
  }
 },
 "nbformat": 4,
 "nbformat_minor": 2
}
