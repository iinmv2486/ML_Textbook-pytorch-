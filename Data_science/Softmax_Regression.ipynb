{
 "cells": [
  {
   "cell_type": "markdown",
   "metadata": {},
   "source": [
    "# 데이터 생성"
   ]
  },
  {
   "cell_type": "code",
   "execution_count": 1,
   "metadata": {},
   "outputs": [],
   "source": [
    "import torch\n",
    "x_train = torch.FloatTensor([[1,2,1,1], [2,1,3,2], [3,1,3,4], [4,1,5,5], \n",
    "                             [1,7,5,5],[1,2,5,6], [1,6,6,6], [1,7,7,7] ])\n",
    "\n",
    "y_train = torch.FloatTensor([[0,0,1], [0,0,1], [0,0,1], [0,1,0], \n",
    "                            [0,1,0], [0,1,0], [1,0,0], [1,0,0] ])"
   ]
  },
  {
   "cell_type": "code",
   "execution_count": 2,
   "metadata": {},
   "outputs": [],
   "source": [
    "W = torch.randn(4, 3, requires_grad=True)\n",
    "b = torch.randn(1, 3, requires_grad=True)\n",
    "\n",
    "optimizer = torch.optim.Adam([W,b], lr=0.1)"
   ]
  },
  {
   "cell_type": "code",
   "execution_count": 3,
   "metadata": {},
   "outputs": [
    {
     "name": "stdout",
     "output_type": "stream",
     "text": [
      "epoch: 0, cost: 7.670903\n",
      "epoch: 300, cost: 0.235160\n",
      "epoch: 600, cost: 0.106475\n",
      "epoch: 900, cost: 0.059806\n",
      "epoch: 1200, cost: 0.037773\n",
      "epoch: 1500, cost: 0.025752\n",
      "epoch: 1800, cost: 0.018508\n",
      "epoch: 2100, cost: 0.013815\n",
      "epoch: 2400, cost: 0.010605\n",
      "epoch: 2700, cost: 0.008316\n",
      "epoch: 3000, cost: 0.006631\n"
     ]
    }
   ],
   "source": [
    "for epoch in range(3001):\n",
    "    hypothesis = torch.softmax(torch.mm(x_train, W)+b, dim=1)\n",
    "    cost = -torch.mean(torch.sum(y_train * torch.log(hypothesis), dim=1))\n",
    "\n",
    "    optimizer.zero_grad()\n",
    "    cost.backward()\n",
    "    optimizer.step()\n",
    "\n",
    "    if epoch % 300 == 0:\n",
    "        print(\"epoch: {}, cost: {:.6f}\".format(epoch, cost.item()))"
   ]
  },
  {
   "cell_type": "code",
   "execution_count": 4,
   "metadata": {},
   "outputs": [
    {
     "name": "stdout",
     "output_type": "stream",
     "text": [
      "tensor([[1.0000e+00, 9.8138e-17, 1.5460e-33],\n",
      "        [1.4420e-05, 6.9044e-01, 3.0954e-01],\n",
      "        [4.5765e-30, 1.8153e-10, 1.0000e+00]])\n",
      "tensor([0, 1, 2])\n"
     ]
    }
   ],
   "source": [
    "W.requires_grad_(False)\n",
    "b.requires_grad_(False)\n",
    "\n",
    "x_test = torch.FloatTensor([[1,11,10,9], [1,3,4,3], [1,1,0,1]])\n",
    "test_all = torch.softmax(torch.mm(x_test, W)+b, dim=1)\n",
    "\n",
    "print(test_all)\n",
    "print(torch.argmax(test_all, dim=1))"
   ]
  },
  {
   "cell_type": "code",
   "execution_count": null,
   "metadata": {},
   "outputs": [],
   "source": []
  }
 ],
 "metadata": {
  "kernelspec": {
   "display_name": ".venv",
   "language": "python",
   "name": "python3"
  },
  "language_info": {
   "codemirror_mode": {
    "name": "ipython",
    "version": 3
   },
   "file_extension": ".py",
   "mimetype": "text/x-python",
   "name": "python",
   "nbconvert_exporter": "python",
   "pygments_lexer": "ipython3",
   "version": "3.11.9"
  }
 },
 "nbformat": 4,
 "nbformat_minor": 2
}
