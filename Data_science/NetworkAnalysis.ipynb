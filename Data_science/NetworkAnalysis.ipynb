{
 "cells": [
  {
   "cell_type": "markdown",
   "metadata": {},
   "source": [
    "# 데이터 다운로드"
   ]
  },
  {
   "cell_type": "code",
   "execution_count": 1,
   "metadata": {},
   "outputs": [
    {
     "name": "stdout",
     "output_type": "stream",
     "text": [
      "--2024-11-20 09:08:11--  https://snap.stanford.edu/data/wikispeedia/wikispeedia_paths-and-graph.tar.gz\n",
      "snap.stanford.edu (snap.stanford.edu) 해석 중... 171.64.75.80\n",
      "다음으로 연결 중: snap.stanford.edu (snap.stanford.edu)|171.64.75.80|:443... 연결했습니다.\n",
      "HTTP 요청을 보냈습니다. 응답 기다리는 중... 200 OK\n",
      "길이: 9901821 (9.4M) [application/x-gzip]\n",
      "저장 위치: ‘wikispeedia_paths-and-graph.tar.gz’\n",
      "\n",
      "wikispeedia_paths-a 100%[===================>]   9.44M   528KB/s    / 24s      \n",
      "\n",
      "2024-11-20 09:08:36 (407 KB/s) - ‘wikispeedia_paths-and-graph.tar.gz’ 저장함 [9901821/9901821]\n",
      "\n",
      "wikispeedia_paths-and-graph/\n",
      "wikispeedia_paths-and-graph/paths_finished.tsv\n",
      "wikispeedia_paths-and-graph/paths_unfinished.tsv\n",
      "wikispeedia_paths-and-graph/articles.tsv\n",
      "wikispeedia_paths-and-graph/categories.tsv\n",
      "wikispeedia_paths-and-graph/links.tsv\n",
      "wikispeedia_paths-and-graph/shortest-path-distance-matrix.txt\n"
     ]
    }
   ],
   "source": [
    "!wget https://snap.stanford.edu/data/wikispeedia/wikispeedia_paths-and-graph.tar.gz\n",
    "!tar xvfz wikispeedia_paths-and-graph.tar.gz"
   ]
  },
  {
   "cell_type": "code",
   "execution_count": 2,
   "metadata": {},
   "outputs": [
    {
     "name": "stdout",
     "output_type": "stream",
     "text": [
      "# The list of all articles.\n",
      "# Article names are URL-encoded; e.g., in Java they can be decoded using java.net.URLDecoder.decode(articleName, \"UTF-8\").\n",
      "# FORMAT:   article\n",
      "#\n",
      "# When publishing on this data set, please cite:\n",
      "# (1) Robert West and Jure Leskovec:\n",
      "#     Human Wayfinding in Information Networks.\n",
      "#     21st International World Wide Web Conference (WWW), 2012.\n",
      "# (2) Robert West, Joelle Pineau, and Doina Precup:\n",
      "#     Wikispeedia: An Online Game for Inferring Semantic Distances between Concepts.\n",
      "#     21st International Joint Conference on Artificial Intelligence (IJCAI), 2009.\n",
      "\n",
      "%C3%81ed%C3%A1n_mac_Gabr%C3%A1in\n",
      "%C3%85land\n",
      "%C3%89douard_Manet\n",
      "%C3%89ire\n",
      "%C3%93engus_I_of_the_Picts\n",
      "%E2%82%AC2_commemorative_coins\n",
      "10th_century\n",
      "11th_century\n",
      "# The list of all links between articles.\n",
      "# Article names are URL-encoded; e.g., in Java they can be decoded using java.net.URLDecoder.decode(articleName, \"UTF-8\").\n",
      "# FORMAT:   linkSource   linkTarget\n",
      "#\n",
      "# When publishing on this data set, please cite:\n",
      "# (1) Robert West and Jure Leskovec:\n",
      "#     Human Wayfinding in Information Networks.\n",
      "#     21st International World Wide Web Conference (WWW), 2012.\n",
      "# (2) Robert West, Joelle Pineau, and Doina Precup:\n",
      "#     Wikispeedia: An Online Game for Inferring Semantic Distances between Concepts.\n",
      "#     21st International Joint Conference on Artificial Intelligence (IJCAI), 2009.\n",
      "\n",
      "%C3%81ed%C3%A1n_mac_Gabr%C3%A1in\tBede\n",
      "%C3%81ed%C3%A1n_mac_Gabr%C3%A1in\tColumba\n",
      "%C3%81ed%C3%A1n_mac_Gabr%C3%A1in\tD%C3%A1l_Riata\n",
      "%C3%81ed%C3%A1n_mac_Gabr%C3%A1in\tGreat_Britain\n",
      "%C3%81ed%C3%A1n_mac_Gabr%C3%A1in\tIreland\n",
      "%C3%81ed%C3%A1n_mac_Gabr%C3%A1in\tIsle_of_Man\n",
      "%C3%81ed%C3%A1n_mac_Gabr%C3%A1in\tMonarchy\n",
      "%C3%81ed%C3%A1n_mac_Gabr%C3%A1in\tOrkney\n"
     ]
    }
   ],
   "source": [
    "!head -n 20 wikispeedia_paths-and-graph/articles.tsv\n",
    "!head -n 20 wikispeedia_paths-and-graph/links.tsv"
   ]
  },
  {
   "cell_type": "code",
   "execution_count": 4,
   "metadata": {},
   "outputs": [],
   "source": [
    "import networkx as nx\n",
    "from urllib.parse import unquote\n",
    "\n",
    "G = nx.DiGraph()\n",
    "\n",
    "with open(\"wikispeedia_paths-and-graph/articles.tsv\") as f:\n",
    "    for line in f:\n",
    "        line = line.strip()\n",
    "        if line == \"\" or line[0] == \"#\": \n",
    "           continue\n",
    "        node = unquote(line)\n",
    "\n",
    "    G.add_node(node)\n",
    "\n",
    "with open(\"wikispeedia_paths-and-graph/links.tsv\") as f:\n",
    "    for line in f:\n",
    "        line = line.strip()\n",
    "        if line == \"\" or line[0] == \"#\": \n",
    "            continue\n",
    "\n",
    "        u, v = line.split()\n",
    "        u = unquote(u)\n",
    "        v = unquote(v)\n",
    "        G.add_edge(u, v)"
   ]
  },
  {
   "cell_type": "code",
   "execution_count": 5,
   "metadata": {},
   "outputs": [
    {
     "data": {
      "text/plain": [
       "(4592, 119882)"
      ]
     },
     "execution_count": 5,
     "metadata": {},
     "output_type": "execute_result"
    }
   ],
   "source": [
    "len(G.nodes), len(G.edges)"
   ]
  },
  {
   "cell_type": "markdown",
   "metadata": {},
   "source": [
    "# Basic Statistics"
   ]
  },
  {
   "cell_type": "code",
   "execution_count": null,
   "metadata": {},
   "outputs": [
    {
     "name": "stdout",
     "output_type": "stream",
     "text": [
      "# nodes: 4592\n",
      "# edges: 119882\n",
      "Density: 0.011372993821421552\n",
      "# triangles: 550545\n"
     ]
    }
   ],
   "source": [
    "n_nodes = len(G.nodes())\n",
    "n_edges = len(G.edges)\n",
    "\n",
    "n_triangles = sum(nx.triangles(G.to_undirected()).values()) // 3\n",
    "\n",
    "density = n_edges * 2 / (n_nodes * (n_nodes-1))  # nx.density(G)\n",
    "\n",
    "print(\"# nodes:\", n_nodes)\n",
    "print(\"# edges:\", n_edges)\n",
    "print(\"Density:\", density)\n",
    "print(\"# triangles:\", n_triangles)"
   ]
  },
  {
   "cell_type": "code",
   "execution_count": null,
   "metadata": {},
   "outputs": [],
   "source": []
  }
 ],
 "metadata": {
  "kernelspec": {
   "display_name": ".venv",
   "language": "python",
   "name": "python3"
  },
  "language_info": {
   "codemirror_mode": {
    "name": "ipython",
    "version": 3
   },
   "file_extension": ".py",
   "mimetype": "text/x-python",
   "name": "python",
   "nbconvert_exporter": "python",
   "pygments_lexer": "ipython3",
   "version": "3.12.3"
  }
 },
 "nbformat": 4,
 "nbformat_minor": 2
}
