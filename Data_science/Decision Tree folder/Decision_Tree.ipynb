{
 "cells": [
  {
   "cell_type": "markdown",
   "metadata": {},
   "source": [
    "# 1. 데이터 로드"
   ]
  },
  {
   "cell_type": "code",
   "execution_count": 1,
   "metadata": {},
   "outputs": [
    {
     "name": "stdout",
     "output_type": "stream",
     "text": [
      "   PassengerId  Survived  Pclass  \\\n",
      "0            1         0       3   \n",
      "1            2         1       1   \n",
      "2            3         1       3   \n",
      "3            4         1       1   \n",
      "4            5         0       3   \n",
      "5            6         0       3   \n",
      "6            7         0       1   \n",
      "7            8         0       3   \n",
      "8            9         1       3   \n",
      "9           10         1       2   \n",
      "\n",
      "                                                Name     Sex   Age  SibSp  \\\n",
      "0                            Braund, Mr. Owen Harris    male  22.0      1   \n",
      "1  Cumings, Mrs. John Bradley (Florence Briggs Th...  female  38.0      1   \n",
      "2                             Heikkinen, Miss. Laina  female  26.0      0   \n",
      "3       Futrelle, Mrs. Jacques Heath (Lily May Peel)  female  35.0      1   \n",
      "4                           Allen, Mr. William Henry    male  35.0      0   \n",
      "5                                   Moran, Mr. James    male   NaN      0   \n",
      "6                            McCarthy, Mr. Timothy J    male  54.0      0   \n",
      "7                     Palsson, Master. Gosta Leonard    male   2.0      3   \n",
      "8  Johnson, Mrs. Oscar W (Elisabeth Vilhelmina Berg)  female  27.0      0   \n",
      "9                Nasser, Mrs. Nicholas (Adele Achem)  female  14.0      1   \n",
      "\n",
      "   Parch            Ticket     Fare Cabin Embarked  \n",
      "0      0         A/5 21171   7.2500   NaN        S  \n",
      "1      0          PC 17599  71.2833   C85        C  \n",
      "2      0  STON/O2. 3101282   7.9250   NaN        S  \n",
      "3      0            113803  53.1000  C123        S  \n",
      "4      0            373450   8.0500   NaN        S  \n",
      "5      0            330877   8.4583   NaN        Q  \n",
      "6      0             17463  51.8625   E46        S  \n",
      "7      1            349909  21.0750   NaN        S  \n",
      "8      2            347742  11.1333   NaN        S  \n",
      "9      0            237736  30.0708   NaN        C  \n",
      "       PassengerId    Survived      Pclass         Age       SibSp  \\\n",
      "count   891.000000  891.000000  891.000000  714.000000  891.000000   \n",
      "mean    446.000000    0.383838    2.308642   29.699118    0.523008   \n",
      "std     257.353842    0.486592    0.836071   14.526497    1.102743   \n",
      "min       1.000000    0.000000    1.000000    0.420000    0.000000   \n",
      "25%     223.500000    0.000000    2.000000   20.125000    0.000000   \n",
      "50%     446.000000    0.000000    3.000000   28.000000    0.000000   \n",
      "75%     668.500000    1.000000    3.000000   38.000000    1.000000   \n",
      "max     891.000000    1.000000    3.000000   80.000000    8.000000   \n",
      "\n",
      "            Parch        Fare  \n",
      "count  891.000000  891.000000  \n",
      "mean     0.381594   32.204208  \n",
      "std      0.806057   49.693429  \n",
      "min      0.000000    0.000000  \n",
      "25%      0.000000    7.910400  \n",
      "50%      0.000000   14.454200  \n",
      "75%      0.000000   31.000000  \n",
      "max      6.000000  512.329200  \n"
     ]
    }
   ],
   "source": [
    "import pandas as pd\n",
    "\n",
    "train = pd.read_csv(\"train.csv\")\n",
    "print(train.head(n=10)) # 상위 열개만 출력\n",
    "print(train.describe()) # 주요 통계 지표 반환 - 데이터 개수, 평균, 표준 편차, 최솟값"
   ]
  },
  {
   "cell_type": "markdown",
   "metadata": {},
   "source": [
    "# 데이터 전처리"
   ]
  },
  {
   "cell_type": "code",
   "execution_count": 2,
   "metadata": {},
   "outputs": [
    {
     "name": "stdout",
     "output_type": "stream",
     "text": [
      "X: \n",
      "      Pclass  SibSp        Age     Fare  Sex_male\n",
      "0         3      1  22.000000   7.2500         1\n",
      "1         1      1  38.000000  71.2833         0\n",
      "2         3      0  26.000000   7.9250         0\n",
      "3         1      1  35.000000  53.1000         0\n",
      "4         3      0  35.000000   8.0500         1\n",
      "..      ...    ...        ...      ...       ...\n",
      "886       2      0  27.000000  13.0000         1\n",
      "887       1      0  19.000000  30.0000         0\n",
      "888       3      1  29.699118  23.4500         0\n",
      "889       1      0  26.000000  30.0000         1\n",
      "890       3      0  32.000000   7.7500         1\n",
      "\n",
      "[891 rows x 5 columns]\n",
      "----------------------------------------------------------------------------------------------------\n",
      "y: \n",
      " 0      0\n",
      "1      1\n",
      "2      1\n",
      "3      1\n",
      "4      0\n",
      "      ..\n",
      "886    0\n",
      "887    1\n",
      "888    0\n",
      "889    1\n",
      "890    0\n",
      "Name: Survived, Length: 891, dtype: int64\n"
     ]
    }
   ],
   "source": [
    "train['Age'] = train['Age'].fillna(train['Age'].mean())\n",
    "\n",
    "# 사용할 feature들만 추출\n",
    "features = ['Sex', 'Pclass', 'SibSp', 'Age', 'Fare']\n",
    "X = pd.get_dummies(train[features], drop_first=True)\n",
    "X['Sex_male'] = X['Sex_male'].astype(int)\n",
    "print(\"X: \\n\", X)\n",
    "print('-'*100)\n",
    "\n",
    "y = train['Survived']\n",
    "print(\"y: \\n\", y)\n"
   ]
  },
  {
   "cell_type": "markdown",
   "metadata": {},
   "source": [
    "# Decision Tree Node"
   ]
  },
  {
   "cell_type": "code",
   "execution_count": 3,
   "metadata": {},
   "outputs": [],
   "source": [
    "class Node:\n",
    "\t\tdef __init__(self, gini, n_samples, n_samples_per_class, predicted_class):\n",
    "\t\t\t\tself.gini = gini\n",
    "\t\t\t\tself.n_samples = n_samples\n",
    "\t\t\t\tself.n_samples_per_class = n_samples_per_class\n",
    "\t\t\t\tself.predicted_class = predicted_class\n",
    "\t\t\t\tself.feature_index = -1\n",
    "\t\t\t\tself.threshold = -1\n",
    "\t\t\t\tself.left = None\n",
    "\t\t\t\tself.right = None"
   ]
  },
  {
   "cell_type": "code",
   "execution_count": 4,
   "metadata": {},
   "outputs": [],
   "source": [
    "import numpy as np\n",
    "\n",
    "class DecisionTreeClassifier():\n",
    "\t\tdef __init__(self, max_depth=3):\n",
    "\t\t\t\tself.max_depth = max_depth\n",
    "\t\t\t\tself.tree = None\n",
    "\t\t\n",
    "\t\tdef fit(self, X, y):\n",
    "\t\t\t\tself.tree = self.build_tree(X, y, self.max_depth)\n",
    "\t\t\n",
    "\t\tdef gini(self, y):\n",
    "\t\t\tn_samples = len(y)\n",
    "\t\t\tn_sample_per_class = np.bincount(y)  # 0의 개수와 1의 개수가 array로 반환된다.\n",
    "\n",
    "\t\t\tgini = 1.0\n",
    "\t\t\tfor i in range(len(n_sample_per_class)):\n",
    "\t\t\t\tgini -= (n_sample_per_class[i] / n_samples)**2\n",
    "\t\t\treturn gini\n",
    "\t\t\n",
    "\t\tdef find_best_split(self, X, y):\n",
    "\t\t\tn_samples, n_features = X.shape  # 891, 5\n",
    "\t\t\tbest_gini = 1.0\n",
    "\t\t\tbest_feature = -1\n",
    "\t\t\tbest_threshold = -1  # 임계값 \n",
    "\n",
    "\t\t\tfor feature in range(n_features):\n",
    "\t\t\t\tthresholds = np.unique(X[:, feature])  # unique는 중복 제거 해주는 함수\n",
    "\n",
    "\t\t\t\tfor threshold in thresholds:\n",
    "\t\t\t\t\tleft_indices = X[:, feature] < threshold\n",
    "\t\t\t\t\tright_indices = ~left_indices\n",
    "\n",
    "\t\t\t\t\tleft_gini = self.gini(y[left_indices])\n",
    "\t\t\t\t\tright_gini = self.gini(y[right_indices])\n",
    "\n",
    "\t\t\t\t\tgini = (left_gini * np.sum(left_indices) + right_gini * np.sum(right_indices)) / n_samples  # Weight Avg\n",
    "\n",
    "\t\t\t\t\tif gini < best_gini:\n",
    "\t\t\t\t\t\tbest_gini = gini\n",
    "\t\t\t\t\t\tbest_feature = feature\n",
    "\t\t\t\t\t\tbest_threshold = threshold\n",
    "\t\t\t\n",
    "\t\t\treturn best_feature, best_threshold\n",
    "\t\t\n",
    "\t\tdef build_tree(self, X, y, depth):\n",
    "\t\t\tif depth < 0:\n",
    "\t\t\t\treturn None\n",
    "\t\t\t\n",
    "\t\t\tn_samples_per_class = np.bincount(y)\n",
    "\n",
    "\t\t\tnode = Node(\n",
    "\t\t\t\tgini=self.gini,\n",
    "\t\t\t\tn_samples=len(y),\n",
    "\t\t\t\tn_samples_per_class=n_samples_per_class,\n",
    "\t\t\t\tpredicted_class=np.argmax(n_samples_per_class)  # 전체 배열에서 가장 높은 값을 가진 요소의 인덱스 배열을 반환\n",
    "\t\t\t\t)\n",
    "\t\t\t\n",
    "\t\t\tif node.gini == 0:\n",
    "\t\t\t\treturn node\n",
    "\t\t\t\n",
    "\t\t\tbest_feature, best_threshold = self.find_best_split(X, y)\n",
    "\n",
    "\t\t\tnode.feature_index = best_feature\n",
    "\t\t\tnode.threshold = best_threshold\n",
    "\n",
    "\t\t\tleft_indices = X[:, best_feature] < best_threshold\n",
    "\t\t\tright_indices = ~left_indices\n",
    "\n",
    "\t\t\tnode.left = self.build_tree(X[left_indices], y[left_indices], depth-1)\n",
    "\t\t\tnode.right = self.build_tree(X[right_indices], y[right_indices], depth-1)\n",
    "\n",
    "\t\t\treturn node\n",
    "\t\t\n",
    "\t\tdef predict(self, X):\n",
    "\t\t\treturn np.array([self.predict_one(x) for x in X])\n",
    "\t\t\n",
    "\t\tdef predict_one(self, x):\n",
    "\t\t\tnode = self.tree\n",
    "\n",
    "\t\t\twhile node.left is not None:\n",
    "\t\t\t\tif x[node.feature_index] < node.threshold:\n",
    "\t\t\t\t\tnode = node.left\n",
    "\t\t\t\telse:\n",
    "\t\t\t\t\tnode = node.right\n",
    "\t\t\t\n",
    "\t\t\treturn node.predicted_class\n",
    "\n"
   ]
  },
  {
   "cell_type": "code",
   "execution_count": 5,
   "metadata": {},
   "outputs": [
    {
     "data": {
      "text/plain": [
       "np.float64(0.8271604938271605)"
      ]
     },
     "execution_count": 5,
     "metadata": {},
     "output_type": "execute_result"
    }
   ],
   "source": [
    "model = DecisionTreeClassifier()\n",
    "model.fit(X.values, y.values)\n",
    "\n",
    "(model.predict(X.values) == y.values).mean()"
   ]
  },
  {
   "cell_type": "code",
   "execution_count": 6,
   "metadata": {},
   "outputs": [
    {
     "name": "stdout",
     "output_type": "stream",
     "text": [
      "[[ 3.          1.         22.          7.25        1.        ]\n",
      " [ 1.          1.         38.         71.2833      0.        ]\n",
      " [ 3.          0.         26.          7.925       0.        ]\n",
      " ...\n",
      " [ 3.          1.         29.69911765 23.45        0.        ]\n",
      " [ 1.          0.         26.         30.          1.        ]\n",
      " [ 3.          0.         32.          7.75        1.        ]]\n",
      "<class 'numpy.ndarray'>\n"
     ]
    }
   ],
   "source": [
    "print(X.values)\n",
    "print(type(X.values))"
   ]
  },
  {
   "cell_type": "code",
   "execution_count": 8,
   "metadata": {},
   "outputs": [
    {
     "name": "stdout",
     "output_type": "stream",
     "text": [
      "[5 9]\n"
     ]
    }
   ],
   "source": [
    "a = np.array([1, 0, 1, 1, 1, 0, 1, 0, 0, 1, 0, 1, 1, 1])\n",
    "print(np.bincount(a))"
   ]
  },
  {
   "cell_type": "code",
   "execution_count": null,
   "metadata": {},
   "outputs": [],
   "source": []
  }
 ],
 "metadata": {
  "kernelspec": {
   "display_name": ".venv",
   "language": "python",
   "name": "python3"
  },
  "language_info": {
   "codemirror_mode": {
    "name": "ipython",
    "version": 3
   },
   "file_extension": ".py",
   "mimetype": "text/x-python",
   "name": "python",
   "nbconvert_exporter": "python",
   "pygments_lexer": "ipython3",
   "version": "3.12.3"
  }
 },
 "nbformat": 4,
 "nbformat_minor": 2
}
